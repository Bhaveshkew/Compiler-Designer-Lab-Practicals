{
 "cells": [
  {
   "cell_type": "code",
   "execution_count": 6,
   "id": "02ceb272",
   "metadata": {},
   "outputs": [
    {
     "name": "stdout",
     "output_type": "stream",
     "text": [
      "b  =  x * x \n",
      "e  =  b + x \n",
      "g  =  7 + e \n",
      "h  =  e * b \n"
     ]
    }
   ],
   "source": [
    "l=[\"a=2\",\"b=x^2\",\"c=x\",\"d=a+5\",\"e=b+c\",\"f=c*c\",\"g=d+e\",\"h=e*f\"]\n",
    "\n",
    "lhs=[]\n",
    "rhs=[]\n",
    "\n",
    "for i in l:\n",
    "    i,j=i.split(\"=\")\n",
    "    lhs.append(i)\n",
    "    rhs.append(list(j))\n",
    "\n",
    "index=[]\n",
    "ind=[]\n",
    "def Elimination(lhs,rhs):\n",
    "    for i in range(len(lhs)):\n",
    "        if len(rhs[i])==1:\n",
    "            for j in range(i+1,len(rhs)):\n",
    "                for k in range(len(rhs[j])):\n",
    "                    if rhs[j][k]==lhs[i]:\n",
    "                        rhs[j][k]=rhs[i][0]\n",
    "                nums=[]\n",
    "                count=0\n",
    "                for k in range(len(rhs[j])):\n",
    "                    if rhs[j][k].isdigit():\n",
    "                        count+=1\n",
    "                        if count==2:\n",
    "                            nums.append(j)\n",
    "\n",
    "                for x in nums:\n",
    "                    if '+' in rhs[x]:\n",
    "                        rhs[x]=[str(int(rhs[x][0])+int(rhs[x][2]))]\n",
    "                    elif '*' in rhs[x]:\n",
    "                        rhs[x]=[str(int(rhs[x][0])*int(rhs[x][2]))]\n",
    "                    elif '-' in rhs[x]:\n",
    "                        rhs[x]=[str(int(rhs[x][0])-int(rhs[x][2]))]\n",
    "                    elif '/' in rhs[x]:\n",
    "                        rhs[x]=[str(int(rhs[x][0])/int(rhs[x][2]))]\n",
    "                    elif '^' in rhs[nums[x]]:\n",
    "                        rhs[x]=[str(int(rhs[x][0])*int(rhs[x][0]))]\n",
    "\n",
    "                if len(rhs[j])==3:\n",
    "                    if '^' in rhs[j]:\n",
    "                        rhs[j][-2]='*'\n",
    "                        rhs[j][-1]=rhs[j][0]\n",
    "\n",
    "            index.append(i)\n",
    "\n",
    "    return lhs,rhs,index\n",
    "        \n",
    "\n",
    "lhs,rhs,index = Elimination(lhs,rhs)\n",
    "\n",
    "for j in range(len(rhs)):\n",
    "    for k in range(j+1,len(rhs)):\n",
    "        if rhs[j] == rhs[k]:\n",
    "            rhs[k] = [lhs[j]]\n",
    "            lhs,rhs,index = Elimination(lhs,rhs)\n",
    "\n",
    "t1=lhs.copy()\n",
    "t2=rhs.copy()\n",
    "\n",
    "for i in range(len(t2)):\n",
    "    if len(t2[i])==1:\n",
    "        if t2[i] in rhs and t1[i] :\n",
    "            lhs.remove(t1[i])\n",
    "            rhs.remove(t2[i])\n",
    "\n",
    "\n",
    "for i in range(len(lhs)):\n",
    "    print(lhs[i],\" = \",end=\" \")\n",
    "    for j in range(len(rhs[i])):\n",
    "        print(rhs[i][j],end=\" \")\n",
    "    print()\n"
   ]
  },
  {
   "cell_type": "code",
   "execution_count": null,
   "id": "d32a940e",
   "metadata": {},
   "outputs": [],
   "source": []
  }
 ],
 "metadata": {
  "kernelspec": {
   "display_name": "Python 3 (ipykernel)",
   "language": "python",
   "name": "python3"
  },
  "language_info": {
   "codemirror_mode": {
    "name": "ipython",
    "version": 3
   },
   "file_extension": ".py",
   "mimetype": "text/x-python",
   "name": "python",
   "nbconvert_exporter": "python",
   "pygments_lexer": "ipython3",
   "version": "3.9.7"
  }
 },
 "nbformat": 4,
 "nbformat_minor": 5
}
